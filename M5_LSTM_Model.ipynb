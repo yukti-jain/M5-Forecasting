{
  "cells": [
    {
      "cell_type": "code",
      "execution_count": 6,
      "id": "675af94e",
      "metadata": {
        "id": "675af94e"
      },
      "outputs": [],
      "source": [
        "import numpy as np\n",
        "import pandas as pd\n",
        "from sklearn.linear_model import LinearRegression\n",
        "import dask.dataframe as dk\n",
        "import calendar\n",
        "from sklearn.metrics import mean_squared_error\n",
        "from tqdm import tqdm\n",
        "from sklearn.metrics import mean_squared_error\n",
        "from sklearn.preprocessing import StandardScaler,Normalizer\n",
        "from xgboost import XGBRegressor\n",
        "from scipy.sparse import csr_matrix,hstack\n",
        "from sklearn.feature_extraction.text import CountVectorizer\n",
        "import tensorflow as tf\n",
        "from sklearn.linear_model import SGDRegressor\n",
        "from lightgbm import LGBMRegressor\n",
        "from sklearn.preprocessing import LabelEncoder\n",
        "import lightgbm as lgb\n",
        "import seaborn as sns\n",
        "import matplotlib.pyplot as plt\n",
        "import warnings\n",
        "warnings.filterwarnings(\"ignore\")\n",
        "from sklearn.ensemble import AdaBoostRegressor\n",
        "import pickle"
      ]
    },
    {
      "cell_type": "code",
      "source": [
        "from google.colab import drive\n",
        "drive.mount('/content/drive')"
      ],
      "metadata": {
        "colab": {
          "base_uri": "https://localhost:8080/"
        },
        "id": "UltetdhpgRfz",
        "outputId": "732378e6-03fb-48af-ad97-7e5503743a68"
      },
      "id": "UltetdhpgRfz",
      "execution_count": 5,
      "outputs": [
        {
          "output_type": "stream",
          "name": "stdout",
          "text": [
            "Mounted at /content/drive\n"
          ]
        }
      ]
    },
    {
      "cell_type": "code",
      "execution_count": 8,
      "id": "c23beb06",
      "metadata": {
        "id": "c23beb06"
      },
      "outputs": [],
      "source": [
        "train=pd.read_csv('/content/drive/MyDrive/train1.csv')"
      ]
    },
    {
      "cell_type": "code",
      "source": [
        "cv=pd.read_csv('cross_validation_df.csv')\n",
        "test=pd.read_csv('test_df.csv')\n",
        "final_test=pd.read_csv('final_test_df.csv')"
      ],
      "metadata": {
        "id": "xPTxpwDChUD_"
      },
      "id": "xPTxpwDChUD_",
      "execution_count": 9,
      "outputs": []
    },
    {
      "cell_type": "code",
      "execution_count": 1,
      "id": "8046d7c4",
      "metadata": {
        "id": "8046d7c4"
      },
      "outputs": [],
      "source": [
        "dtype = {\n",
        "    # Object (string) types\n",
        "    'id': 'object',\n",
        "    'd': 'object',\n",
        "    'date': 'object',\n",
        "    'holiday': 'object',\n",
        "    'season': 'object',\n",
        "\n",
        "    # Integer types\n",
        "    'item_id': 'int64',\n",
        "    'dept_id': 'int8',\n",
        "    'cat_id': 'int8',\n",
        "    'store_id': 'int8',\n",
        "    'state_id': 'int8',\n",
        "    'wday': 'int8',\n",
        "    'month': 'int8',\n",
        "    'year': 'int16',\n",
        "    'event_name_1': 'int8',\n",
        "    'event_type_1': 'int8',\n",
        "    'event_name_2': 'int8',\n",
        "    'event_type_2': 'int8',\n",
        "    'snap': 'int8',\n",
        "    'week_number': 'int8',\n",
        "    'quater_start': 'int8',\n",
        "    'quater_end': 'int8',\n",
        "    'month_start': 'int8',\n",
        "    'month_end': 'int8',\n",
        "    'year_start': 'int8',\n",
        "    'year_end': 'int8',\n",
        "    'direct_lag_28': 'int16',\n",
        "    'direct_lag_35': 'int16',\n",
        "    'direct_lag_42': 'int16',\n",
        "    'direct_lag_49': 'int16',\n",
        "    'direct_lag_56': 'int16',\n",
        "    'direct_lag_63': 'int16',\n",
        "    'direct_lag_70': 'int16',\n",
        "    'direct_lag_77': 'int16',\n",
        "    'direct_lag_84': 'int16',\n",
        "    'direct_lag_91': 'int16',\n",
        "    'direct_lag_98': 'int16',\n",
        "\n",
        "    # Float types\n",
        "    'sell_price': 'float16',\n",
        "    'roll_7_shift_28_mean': 'float16',\n",
        "    'roll_14_shift_28_mean': 'float16',\n",
        "    'roll_30_shift_28_mean': 'float16',\n",
        "    'roll_60_shift_28_mean': 'float16',\n",
        "    'roll_360_shift_28_mean': 'float16',\n",
        "    'roll_7_shift_28_std': 'float16',\n",
        "    'roll_14_shift_28_std': 'float16',\n",
        "    'roll_30_shift_28_std': 'float16',\n",
        "    'roll_60_shift_28_std': 'float16',\n",
        "    'roll_360_shift_28_std': 'float16',\n",
        "    'direct_ewm': 'float16',\n",
        "}\n",
        "\n",
        "\n",
        "def update_dtypes(df, dtype_dict):\n",
        "    # Iterate through the dictionary\n",
        "    for column, dtype in dtype_dict.items():\n",
        "        # Check if the column exists in the DataFrame\n",
        "        if column in df.columns:\n",
        "            try:\n",
        "                # Fill NaN values with zero before conversion\n",
        "                # This is particularly important for numeric conversions\n",
        "                if pd.api.types.is_numeric_dtype(dtype) or dtype in ['float16', 'float32', 'float64', 'int8', 'int16', 'int32', 'int64']:\n",
        "                    df[column] = df[column].fillna(0)\n",
        "\n",
        "                # Change the column data type\n",
        "                df[column] = df[column].astype(dtype)\n",
        "            except Exception as e:\n",
        "                # Handle errors if conversion fails, e.g., due to incompatible data\n",
        "                print(f\"Could not convert column {column} to {dtype}: {e}\")\n",
        "    return df"
      ]
    },
    {
      "cell_type": "code",
      "execution_count": 11,
      "id": "5af23ea0",
      "metadata": {
        "id": "5af23ea0"
      },
      "outputs": [],
      "source": [
        "final_test = update_dtypes(final_test, dtype)\n",
        "cv = update_dtypes(cv, dtype)\n",
        "test = update_dtypes(test, dtype)\n",
        "train = update_dtypes(train, dtype)"
      ]
    },
    {
      "cell_type": "markdown",
      "source": [
        "## Calculating WRMSSE"
      ],
      "metadata": {
        "id": "RnZcOPvc8SZW"
      },
      "id": "RnZcOPvc8SZW"
    },
    {
      "cell_type": "code",
      "execution_count": 13,
      "id": "36c04777",
      "metadata": {
        "id": "36c04777"
      },
      "outputs": [],
      "source": [
        "def caluclate_WRMSSE(actual,predicted,train,weights,h,n):\n",
        "    '''This function is used to calculate RMSSE'''\n",
        "    num=((actual-predicted)**2).sum(axis=1)/h\n",
        "    denom=(train[:,1:]-train[:,:-1])**2\n",
        "    denom=denom.sum(axis=1)/(n-1)\n",
        "    return (num/denom)**0.5"
      ]
    },
    {
      "cell_type": "code",
      "source": [
        "def get_model_performances(model,train,cv,test,X_cv,X_test):\n",
        "    '''This Function is used to get WRMSSE that is used in this Case Study as a Metric For CV and Test Data'''\n",
        "    #For CV Data\n",
        "    cv['prices']=cv['sales']*cv['sell_price']\n",
        "    total_sales=cv.groupby('id').sum()\n",
        "    total=sum(total_sales['sales'])\n",
        "    weight={}\n",
        "    for i in total_sales.index:\n",
        "        weight[i]=total_sales.loc[i]['sales']/total\n",
        "    train1=pd.concat([train,cv])\n",
        "    train1.sort_values(['id','date'],inplace=True)\n",
        "    train1.fillna(0,inplace=True)\n",
        "    df=train1.pivot_table(index=['id','state_id','store_id','cat_id','dept_id','item_id'],columns='d',values='sales')\n",
        "    df.reset_index(level=[0,1,2,3,4,5],inplace=True)\n",
        "    df.fillna(0,inplace=True)\n",
        "    del train1\n",
        "    import gc\n",
        "    cv['pred_sales']=model.predict(X_cv)\n",
        "    df1=cv.pivot_table(index=['id'],columns='d',values='pred_sales')\n",
        "    dic={}\n",
        "    for j,i in enumerate(range(1886,1914)):\n",
        "        dic['d_'+str(i)]='F'+str(j+1)\n",
        "    df1=df1.rename(columns=dic)\n",
        "    df1.reset_index(level=[0],inplace=True)\n",
        "    dd=df.merge(df1,on='id')\n",
        "    dd['weight']=dd['id'].apply(lambda x:weight[x])\n",
        "    l=['d_'+str(i) for i in range(1,1914)]\n",
        "    l1=['F'+str(i) for i in range(1,29)]\n",
        "    agg_level={2:['state_id'],3:['store_id'],4:['cat_id'],5:['dept_id'],6:['state_id','cat_id'],\\\n",
        "           7:['state_id','dept_id'],8:['store_id','cat_id'],9:['store_id','dept_id'],10:['item_id'],11:['item_id','state_id']}\n",
        "    agg=pd.DataFrame(dd[l+l1].sum()).transpose()\n",
        "    agg['weight']=1/12\n",
        "    agg['level']=1\n",
        "    col=agg.columns\n",
        "    for level in agg_level:\n",
        "        temp_df=dd.groupby(by=agg_level[level]).sum().reset_index(drop=True)\n",
        "        temp_df['weight']/=12\n",
        "        temp_df['level']=level\n",
        "        agg=agg.append(temp_df[col])\n",
        "    dd['weight']/=12\n",
        "    dd['level']=12\n",
        "    agg=agg.append(dd[col])\n",
        "    actual=agg[['d_1886', 'd_1887', 'd_1888', 'd_1889', 'd_1890', 'd_1891', 'd_1892',\n",
        "       'd_1893', 'd_1894', 'd_1895', 'd_1896', 'd_1897', 'd_1898', 'd_1899',\n",
        "       'd_1900', 'd_1901', 'd_1902', 'd_1903', 'd_1904', 'd_1905', 'd_1906',\n",
        "       'd_1907', 'd_1908', 'd_1909', 'd_1910', 'd_1911', 'd_1912', 'd_1913']].values\n",
        "    predicted=agg[['F1', 'F2', 'F3', 'F4', 'F5', 'F6', 'F7', 'F8', 'F9', 'F10', 'F11',\n",
        "       'F12', 'F13', 'F14', 'F15', 'F16', 'F17', 'F18', 'F19', 'F20', 'F21',\n",
        "       'F22', 'F23', 'F24', 'F25', 'F26', 'F27', 'F28']].values\n",
        "    training=agg[['d_'+str(i) for i in range(1,1886)]].values\n",
        "    weights=agg['weight'].values\n",
        "    rmsse=caluclate_WRMSSE(actual,predicted,training,weights,28,1886)\n",
        "    cv_wrsmme=np.sum(rmsse*weights)\n",
        "    cv.drop(['pred_sales'],axis=1,inplace=True)\n",
        "    del actual,predicted,training,weights,agg\n",
        "\n",
        "    #For Test data\n",
        "    test['prices']=test['sales']*test['sell_price']\n",
        "    total_sales=test.groupby('id').sum()\n",
        "    total=sum(total_sales['sales'])\n",
        "    weight={}\n",
        "    for i in total_sales.index:\n",
        "        weight[i.replace('evaluation','validation')]=total_sales.loc[i]['sales']/total\n",
        "    test['id']=test['id'].apply(lambda x:x.replace('evaluation','validation'))\n",
        "    train1=pd.concat([train,cv,test])\n",
        "    train1.sort_values(['id','date'],inplace=True)\n",
        "    train1.fillna(0,inplace=True)\n",
        "    df=train1.pivot_table(index=['id','state_id','store_id','cat_id','dept_id','item_id'],columns='d',values='sales')\n",
        "    df.reset_index(level=[0,1,2,3,4,5],inplace=True)\n",
        "    df.fillna(0,inplace=True)\n",
        "    del train1\n",
        "    import gc\n",
        "    test['pred_sales']=model.predict(X_test)\n",
        "    df1=test.pivot_table(index=['id'],columns='d',values='pred_sales')\n",
        "    dic={}\n",
        "    for j,i in enumerate(range(1914,1942)):\n",
        "        dic['d_'+str(i)]='F'+str(j+1)\n",
        "    df1=df1.rename(columns=dic)\n",
        "    df1.reset_index(level=[0],inplace=True)\n",
        "    dd=df.merge(df1,on='id')\n",
        "    dd['weight']=dd['id'].apply(lambda x:weight[x])\n",
        "    l=['d_'+str(i) for i in range(1,1942)]\n",
        "    l1=['F'+str(i) for i in range(1,29)]\n",
        "    agg_level={2:['state_id'],3:['store_id'],4:['cat_id'],5:['dept_id'],6:['state_id','cat_id'],\\\n",
        "           7:['state_id','dept_id'],8:['store_id','cat_id'],9:['store_id','dept_id'],10:['item_id'],11:['item_id','state_id']}\n",
        "    agg=pd.DataFrame(dd[l+l1].sum()).transpose()\n",
        "    agg['weight']=1/12\n",
        "    agg['level']=1\n",
        "    col=agg.columns\n",
        "    for level in agg_level:\n",
        "        temp_df=dd.groupby(by=agg_level[level]).sum().reset_index(drop=True)\n",
        "        temp_df['weight']/=12\n",
        "        temp_df['level']=level\n",
        "        agg=agg.append(temp_df[col])\n",
        "    dd['weight']/=12\n",
        "    dd['level']=12\n",
        "    agg=agg.append(dd[col])\n",
        "    actual=agg[['d_1914', 'd_1915', 'd_1916', 'd_1917', 'd_1918', 'd_1919',\n",
        "       'd_1920', 'd_1921', 'd_1922', 'd_1923', 'd_1924', 'd_1925',\n",
        "       'd_1926', 'd_1927', 'd_1928', 'd_1929', 'd_1930', 'd_1931',\n",
        "       'd_1932', 'd_1933', 'd_1934', 'd_1935', 'd_1936', 'd_1937',\n",
        "       'd_1938', 'd_1939', 'd_1940', 'd_1941']].values\n",
        "    predicted=agg[['F1', 'F2', 'F3', 'F4', 'F5', 'F6', 'F7', 'F8', 'F9', 'F10', 'F11',\n",
        "       'F12', 'F13', 'F14', 'F15', 'F16', 'F17', 'F18', 'F19', 'F20', 'F21',\n",
        "       'F22', 'F23', 'F24', 'F25', 'F26', 'F27', 'F28']].values\n",
        "    training=agg[['d_'+str(i) for i in range(1,1914)]].values\n",
        "    weights=agg['weight'].values\n",
        "    rmsse=caluclate_WRMSSE(actual,predicted,training,weights,28,1914)\n",
        "    test_wrsmme=np.sum(rmsse*weights)\n",
        "\n",
        "    print(\"CV WRMSSE=\",cv_wrsmme)\n",
        "    print(\"Test WRMSSE=\",test_wrsmme)"
      ],
      "metadata": {
        "id": "CE9CTazKjQDg"
      },
      "id": "CE9CTazKjQDg",
      "execution_count": 14,
      "outputs": []
    },
    {
      "cell_type": "code",
      "execution_count": 15,
      "id": "d90d1d87",
      "metadata": {
        "id": "d90d1d87"
      },
      "outputs": [],
      "source": [
        "def get_model_performances_for_store_wise_trained_model(train,cv,test,cv_pred,test_pred):\n",
        "    '''This Function is used to get WRMSSE that is used in this Case Study as a Metric For CV and Test Data where model is trained according to store id(Mainly used for Catabosst)'''\n",
        "    #For CV Data\n",
        "    cv['prices']=cv['sales']*cv['sell_price']\n",
        "    total_sales=cv.groupby('id').sum()\n",
        "    total=sum(total_sales['sales'])\n",
        "    weight={}\n",
        "    for i in total_sales.index:\n",
        "        weight[i]=total_sales.loc[i]['sales']/total\n",
        "    train1=pd.concat([train,cv])\n",
        "    train1.sort_values(['id','date'],inplace=True)\n",
        "    train1.fillna(0,inplace=True)\n",
        "    df=train1.pivot_table(index=['id','state_id','store_id','cat_id','dept_id','item_id'],columns='d',values='sales')\n",
        "    df.reset_index(level=[0,1,2,3,4,5],inplace=True)\n",
        "    df.fillna(0,inplace=True)\n",
        "    del train1\n",
        "    import gc\n",
        "\n",
        "    df1=cv_pred\n",
        "    dd=df.merge(df1,on='id')\n",
        "    dd['weight']=dd['id'].apply(lambda x:weight[x])\n",
        "    l=['d_'+str(i) for i in range(1,1914)]\n",
        "    l1=['F'+str(i) for i in range(1,29)]\n",
        "    agg_level={2:['state_id'],3:['store_id'],4:['cat_id'],5:['dept_id'],6:['state_id','cat_id'],\\\n",
        "           7:['state_id','dept_id'],8:['store_id','cat_id'],9:['store_id','dept_id'],10:['item_id'],11:['item_id','state_id']}\n",
        "    agg=pd.DataFrame(dd[l+l1].sum()).transpose()\n",
        "    agg['weight']=1/12\n",
        "    agg['level']=1\n",
        "    col=agg.columns\n",
        "    for level in agg_level:\n",
        "        temp_df=dd.groupby(by=agg_level[level]).sum().reset_index(drop=True)\n",
        "        temp_df['weight']/=12\n",
        "        temp_df['level']=level\n",
        "        agg=agg.append(temp_df[col])\n",
        "    dd['weight']/=12\n",
        "    dd['level']=12\n",
        "    agg=agg.append(dd[col])\n",
        "    actual=agg[['d_1886', 'd_1887', 'd_1888', 'd_1889', 'd_1890', 'd_1891', 'd_1892',\n",
        "       'd_1893', 'd_1894', 'd_1895', 'd_1896', 'd_1897', 'd_1898', 'd_1899',\n",
        "       'd_1900', 'd_1901', 'd_1902', 'd_1903', 'd_1904', 'd_1905', 'd_1906',\n",
        "       'd_1907', 'd_1908', 'd_1909', 'd_1910', 'd_1911', 'd_1912', 'd_1913']].values\n",
        "    predicted=agg[['F1', 'F2', 'F3', 'F4', 'F5', 'F6', 'F7', 'F8', 'F9', 'F10', 'F11',\n",
        "       'F12', 'F13', 'F14', 'F15', 'F16', 'F17', 'F18', 'F19', 'F20', 'F21',\n",
        "       'F22', 'F23', 'F24', 'F25', 'F26', 'F27', 'F28']].values\n",
        "    training=agg[['d_'+str(i) for i in range(1,1886)]].values\n",
        "    weights=agg['weight'].values\n",
        "    rmsse=caluclate_WRMSSE(actual,predicted,training,weights,28,1886)\n",
        "    cv_wrsmme=np.sum(rmsse*weights)\n",
        "    del actual,predicted,training,weights,agg\n",
        "\n",
        "    #For Test data\n",
        "    test['prices']=test['sales']*test['sell_price']\n",
        "    total_sales=test.groupby('id').sum()\n",
        "    total=sum(total_sales['sales'])\n",
        "    weight={}\n",
        "    for i in total_sales.index:\n",
        "        weight[i.replace('evaluation','validation')]=total_sales.loc[i]['sales']/total\n",
        "    test['id']=test['id'].apply(lambda x:x.replace('evaluation','validation'))\n",
        "    train1=pd.concat([train,cv,test])\n",
        "    train1.sort_values(['id','date'],inplace=True)\n",
        "    train1.fillna(0,inplace=True)\n",
        "    df=train1.pivot_table(index=['id','state_id','store_id','cat_id','dept_id','item_id'],columns='d',values='sales')\n",
        "    df.reset_index(level=[0,1,2,3,4,5],inplace=True)\n",
        "    df.fillna(0,inplace=True)\n",
        "    del train1\n",
        "    import gc\n",
        "    df1=test_pred\n",
        "    df1['id']=df1['id'].apply(lambda x:x.replace('evaluation','validation'))\n",
        "    dd=df.merge(df1,on='id')\n",
        "    dd['weight']=dd['id'].apply(lambda x:weight[x])\n",
        "    l=['d_'+str(i) for i in range(1,1942)]\n",
        "    l1=['F'+str(i) for i in range(1,29)]\n",
        "    agg_level={2:['state_id'],3:['store_id'],4:['cat_id'],5:['dept_id'],6:['state_id','cat_id'],\\\n",
        "           7:['state_id','dept_id'],8:['store_id','cat_id'],9:['store_id','dept_id'],10:['item_id'],11:['item_id','state_id']}\n",
        "    agg=pd.DataFrame(dd[l+l1].sum()).transpose()\n",
        "    agg['weight']=1/12\n",
        "    agg['level']=1\n",
        "    col=agg.columns\n",
        "    for level in agg_level:\n",
        "        temp_df=dd.groupby(by=agg_level[level]).sum().reset_index(drop=True)\n",
        "        temp_df['weight']/=12\n",
        "        temp_df['level']=level\n",
        "        agg=agg.append(temp_df[col])\n",
        "    dd['weight']/=12\n",
        "    dd['level']=12\n",
        "    agg=agg.append(dd[col])\n",
        "    actual=agg[['d_1914', 'd_1915', 'd_1916', 'd_1917', 'd_1918', 'd_1919',\n",
        "       'd_1920', 'd_1921', 'd_1922', 'd_1923', 'd_1924', 'd_1925',\n",
        "       'd_1926', 'd_1927', 'd_1928', 'd_1929', 'd_1930', 'd_1931',\n",
        "       'd_1932', 'd_1933', 'd_1934', 'd_1935', 'd_1936', 'd_1937',\n",
        "       'd_1938', 'd_1939', 'd_1940', 'd_1941']].values\n",
        "    predicted=agg[['F1', 'F2', 'F3', 'F4', 'F5', 'F6', 'F7', 'F8', 'F9', 'F10', 'F11',\n",
        "       'F12', 'F13', 'F14', 'F15', 'F16', 'F17', 'F18', 'F19', 'F20', 'F21',\n",
        "       'F22', 'F23', 'F24', 'F25', 'F26', 'F27', 'F28']].values\n",
        "    training=agg[['d_'+str(i) for i in range(1,1914)]].values\n",
        "    weights=agg['weight'].values\n",
        "    rmsse=caluclate_WRMSSE(actual,predicted,training,weights,28,1914)\n",
        "    test_wrsmme=np.sum(rmsse*weights)\n",
        "\n",
        "    print(\"CV WRMSSE=\",cv_wrsmme)\n",
        "    print(\"Test WRMSSE=\",test_wrsmme)\n"
      ]
    },
    {
      "cell_type": "markdown",
      "source": [
        "## Model Architecture"
      ],
      "metadata": {
        "id": "oRhScJAz8MA_"
      },
      "id": "oRhScJAz8MA_"
    },
    {
      "cell_type": "code",
      "execution_count": 16,
      "id": "2c0b5144",
      "metadata": {
        "id": "2c0b5144"
      },
      "outputs": [],
      "source": [
        "tf.keras.backend.clear_session()\n",
        "input1=tf.keras.layers.Input(shape=1,name='Item_Id')\n",
        "input2=tf.keras.layers.Input(shape=1,name='Dept_Id')\n",
        "input3=tf.keras.layers.Input(shape=1,name='Cat_Id')\n",
        "input4=tf.keras.layers.Input(shape=1,name='Store_Id')\n",
        "input5=tf.keras.layers.Input(shape=1,name='State_Id')\n",
        "input6=tf.keras.layers.Input(shape=1,name='year')\n",
        "input7=tf.keras.layers.Input(shape=1,name='event_name_1')\n",
        "input8=tf.keras.layers.Input(shape=1,name='event_name_2')\n",
        "input9=tf.keras.layers.Input(shape=1,name='season')\n",
        "input10=tf.keras.layers.Input(shape=(1,23),name='Numerical_features')\n",
        "\n",
        "emb1=tf.keras.layers.Embedding(3050,output_dim=150)(input1)\n",
        "emb2=tf.keras.layers.Embedding(8,output_dim=10)(input2)\n",
        "emb3=tf.keras.layers.Embedding(4,output_dim=10)(input3)\n",
        "emb4=tf.keras.layers.Embedding(11,output_dim=10)(input4)\n",
        "emb5=tf.keras.layers.Embedding(4,output_dim=10)(input5)\n",
        "emb6=tf.keras.layers.Embedding(2017,output_dim=10)(input6)\n",
        "emb7=tf.keras.layers.Embedding(32,output_dim=10)(input7)\n",
        "emb8=tf.keras.layers.Embedding(6,output_dim=10)(input8)\n",
        "emb9=tf.keras.layers.Embedding(5,output_dim=10)(input9)\n",
        "\n",
        "lstm1=tf.keras.layers.LSTM(50)(emb1)\n",
        "lstm2=tf.keras.layers.LSTM(10)(emb2)\n",
        "lstm3=tf.keras.layers.LSTM(10)(emb3)\n",
        "lstm4=tf.keras.layers.LSTM(10)(emb4)\n",
        "lstm5=tf.keras.layers.LSTM(10)(emb5)\n",
        "lstm6=tf.keras.layers.LSTM(10)(emb6)\n",
        "lstm7=tf.keras.layers.LSTM(10)(emb7)\n",
        "lstm8=tf.keras.layers.LSTM(10)(emb8)\n",
        "lstm9=tf.keras.layers.LSTM(10)(emb9)\n",
        "lstm10=tf.keras.layers.LSTM(10)(input10)\n",
        "\n",
        "x1=tf.keras.layers.Flatten()(lstm1)\n",
        "x2=tf.keras.layers.Flatten()(lstm2)\n",
        "x3=tf.keras.layers.Flatten()(lstm3)\n",
        "x4=tf.keras.layers.Flatten()(lstm4)\n",
        "x5=tf.keras.layers.Flatten()(lstm5)\n",
        "x6=tf.keras.layers.Flatten()(lstm6)\n",
        "x7=tf.keras.layers.Flatten()(lstm7)\n",
        "x8=tf.keras.layers.Flatten()(lstm8)\n",
        "x9=tf.keras.layers.Flatten()(lstm9)\n",
        "x10=tf.keras.layers.Flatten()(input10)\n",
        "\n",
        "x=tf.keras.layers.Concatenate()([x1,x2,x3,x4,x5,x6,x7,x8,x9,x10])\n",
        "x=tf.keras.layers.BatchNormalization()(x)\n",
        "x=tf.keras.layers.Dense(256,activation='sigmoid')(x)\n",
        "x=tf.keras.layers.Dense(128,activation='tanh')(x)\n",
        "x=tf.keras.layers.Dense(64,activation='relu')(x)\n",
        "x=tf.keras.layers.Dense(1)(x)\n",
        "model=tf.keras.Model([input1,input2,input3,input4,input5,input6,input7,input8,input9,input10],x)"
      ]
    },
    {
      "cell_type": "code",
      "execution_count": 18,
      "id": "f77cd331",
      "metadata": {
        "id": "f77cd331"
      },
      "outputs": [],
      "source": [
        "model.compile(optimizer=tf.keras.optimizers.Nadam(learning_rate=0.0009),loss='mse')"
      ]
    },
    {
      "cell_type": "code",
      "execution_count": 19,
      "id": "9439560b",
      "metadata": {
        "id": "9439560b",
        "outputId": "292041bc-8950-4035-d7d0-1aca26c081e7",
        "colab": {
          "base_uri": "https://localhost:8080/"
        }
      },
      "outputs": [
        {
          "output_type": "stream",
          "name": "stdout",
          "text": [
            "Epoch 1/15\n",
            "904/904 [==============================] - 57s 33ms/step - loss: 8.3577 - val_loss: 4.9870\n",
            "Epoch 2/15\n",
            "904/904 [==============================] - 26s 29ms/step - loss: 7.3696 - val_loss: 5.0033\n",
            "Epoch 3/15\n",
            "904/904 [==============================] - 26s 29ms/step - loss: 7.1261 - val_loss: 4.9548\n",
            "Epoch 4/15\n",
            "904/904 [==============================] - 26s 28ms/step - loss: 6.9758 - val_loss: 4.8132\n",
            "Epoch 5/15\n",
            "904/904 [==============================] - 26s 29ms/step - loss: 6.8588 - val_loss: 4.7390\n",
            "Epoch 6/15\n",
            "904/904 [==============================] - 26s 29ms/step - loss: 6.7560 - val_loss: 4.7958\n",
            "Epoch 7/15\n",
            "904/904 [==============================] - 26s 28ms/step - loss: 6.6756 - val_loss: 4.6966\n",
            "Epoch 8/15\n",
            "904/904 [==============================] - 26s 28ms/step - loss: 6.6108 - val_loss: 4.7908\n",
            "Epoch 9/15\n",
            "904/904 [==============================] - 26s 29ms/step - loss: 6.5582 - val_loss: 4.7383\n",
            "Epoch 10/15\n",
            "904/904 [==============================] - 26s 29ms/step - loss: 6.5149 - val_loss: 4.7449\n",
            "Epoch 11/15\n",
            "904/904 [==============================] - 26s 29ms/step - loss: 6.4692 - val_loss: 4.7427\n",
            "Epoch 12/15\n",
            "904/904 [==============================] - 26s 29ms/step - loss: 6.4220 - val_loss: 4.7135\n",
            "Epoch 13/15\n",
            "904/904 [==============================] - 26s 29ms/step - loss: 6.3906 - val_loss: 4.6771\n",
            "Epoch 14/15\n",
            "904/904 [==============================] - 26s 28ms/step - loss: 6.3530 - val_loss: 4.7694\n",
            "Epoch 15/15\n",
            "904/904 [==============================] - 26s 28ms/step - loss: 6.3297 - val_loss: 4.8845\n"
          ]
        },
        {
          "output_type": "execute_result",
          "data": {
            "text/plain": [
              "<keras.src.callbacks.History at 0x7d53402b9240>"
            ]
          },
          "metadata": {},
          "execution_count": 19
        }
      ],
      "source": [
        "model.fit(x=[train['item_id'].values.reshape(-1,1),train['dept_id'].values,train['cat_id'].values.reshape(-1,1),train['store_id'].values.reshape(-1,1),\\\n",
        "             train['state_id'].values.reshape(-1,1),train['year'].values.reshape(-1,1),train['event_name_1'].values.reshape(-1,1),train['event_name_2'].values.reshape(-1,1),\\\n",
        "             train['season'].values.reshape(-1,1),train[[ 'roll_7_shift_28_mean',\n",
        "       'roll_14_shift_28_mean', 'roll_30_shift_28_mean',\n",
        "       'roll_60_shift_28_mean', 'roll_360_shift_28_mean',\n",
        "       'roll_7_shift_28_std', 'roll_14_shift_28_std', 'roll_30_shift_28_std',\n",
        "       'roll_60_shift_28_std', 'roll_360_shift_28_std','sell_price','direct_lag_28', 'direct_lag_35', 'direct_lag_42', 'direct_lag_49',\n",
        "       'direct_lag_56', 'direct_lag_63', 'direct_lag_70', 'direct_lag_77',\n",
        "       'direct_lag_84', 'direct_lag_91', 'direct_lag_98','direct_ewm']].values.reshape(-1,1,23)],\\\n",
        "          y=train['sales'],epochs=15,verbose=1,batch_size=50000,\\\n",
        "          validation_data=([cv['item_id'].values.reshape(-1,1),cv['dept_id'].values,cv['cat_id'].values.reshape(-1,1),cv['store_id'].values.reshape(-1,1),\\\n",
        "             cv['state_id'].values.reshape(-1,1),cv['year'].values.reshape(-1,1),cv['event_name_1'].values.reshape(-1,1),cv['event_name_2'].values.reshape(-1,1),\\\n",
        "             cv['season'].values.reshape(-1,1),cv[[ 'roll_7_shift_28_mean',\n",
        "       'roll_14_shift_28_mean', 'roll_30_shift_28_mean',\n",
        "       'roll_60_shift_28_mean', 'roll_360_shift_28_mean',\n",
        "       'roll_7_shift_28_std', 'roll_14_shift_28_std', 'roll_30_shift_28_std',\n",
        "       'roll_60_shift_28_std', 'roll_360_shift_28_std','sell_price','direct_lag_28', 'direct_lag_35', 'direct_lag_42', 'direct_lag_49',\n",
        "       'direct_lag_56', 'direct_lag_63', 'direct_lag_70', 'direct_lag_77',\n",
        "       'direct_lag_84', 'direct_lag_91', 'direct_lag_98','direct_ewm']].values.reshape(-1,1,23)],cv['sales']),workers=5,use_multiprocessing=True)"
      ]
    },
    {
      "cell_type": "code",
      "execution_count": 20,
      "id": "0a429dff",
      "metadata": {
        "id": "0a429dff",
        "outputId": "c0d4c369-2208-4b11-c4e3-7ea17dcb6cdd",
        "colab": {
          "base_uri": "https://localhost:8080/"
        }
      },
      "outputs": [
        {
          "output_type": "stream",
          "name": "stdout",
          "text": [
            "26679/26679 [==============================] - 142s 5ms/step\n",
            "26679/26679 [==============================] - 140s 5ms/step\n",
            "CV WRMSSE= 1.1216589309860918\n",
            "Test WRMSSE= 1.0472808422500042\n",
            "CPU times: user 13min 52s, sys: 2min 25s, total: 16min 17s\n",
            "Wall time: 9min 57s\n"
          ]
        }
      ],
      "source": [
        "get_model_performances(model,train,cv,test,[cv['item_id'].values.reshape(-1,1),cv['dept_id'].values,cv['cat_id'].values.reshape(-1,1),cv['store_id'].values.reshape(-1,1),\\\n",
        "             cv['state_id'].values.reshape(-1,1),cv['year'].values.reshape(-1,1),cv['event_name_1'].values.reshape(-1,1),cv['event_name_2'].values.reshape(-1,1),\\\n",
        "             cv['season'].values.reshape(-1,1),cv[['roll_7_shift_28_mean',\n",
        "       'roll_14_shift_28_mean', 'roll_30_shift_28_mean',\n",
        "       'roll_60_shift_28_mean', 'roll_360_shift_28_mean',\n",
        "       'roll_7_shift_28_std', 'roll_14_shift_28_std', 'roll_30_shift_28_std',\n",
        "       'roll_60_shift_28_std', 'roll_360_shift_28_std','sell_price','direct_lag_28', 'direct_lag_35', 'direct_lag_42', 'direct_lag_49',\n",
        "       'direct_lag_56', 'direct_lag_63', 'direct_lag_70', 'direct_lag_77',\n",
        "       'direct_lag_84', 'direct_lag_91', 'direct_lag_98','direct_ewm']].values.reshape(-1,1,23)],\\\n",
        "                       [test['item_id'].values.reshape(-1,1),test['dept_id'].values,test['cat_id'].values.reshape(-1,1),test['store_id'].values.reshape(-1,1),\\\n",
        "             test['state_id'].values.reshape(-1,1),test['year'].values.reshape(-1,1),test['event_name_1'].values.reshape(-1,1),test['event_name_2'].values.reshape(-1,1),\\\n",
        "             test['season'].values.reshape(-1,1),test[['roll_7_shift_28_mean',\n",
        "       'roll_14_shift_28_mean', 'roll_30_shift_28_mean',\n",
        "       'roll_60_shift_28_mean', 'roll_360_shift_28_mean',\n",
        "       'roll_7_shift_28_std', 'roll_14_shift_28_std', 'roll_30_shift_28_std',\n",
        "       'roll_60_shift_28_std', 'roll_360_shift_28_std','sell_price','direct_lag_28', 'direct_lag_35', 'direct_lag_42', 'direct_lag_49',\n",
        "       'direct_lag_56', 'direct_lag_63', 'direct_lag_70', 'direct_lag_77',\n",
        "       'direct_lag_84', 'direct_lag_91', 'direct_lag_98','direct_ewm']].values.reshape(-1,1,23)])"
      ]
    },
    {
      "cell_type": "code",
      "source": [
        "#Predicting for test data\n",
        "test['pred_sales']=model.predict([test['item_id'].values.reshape(-1,1),test['dept_id'].values,test['cat_id'].values.reshape(-1,1),test['store_id'].values.reshape(-1,1),\\\n",
        "             test['state_id'].values.reshape(-1,1),test['year'].values.reshape(-1,1),test['event_name_1'].values.reshape(-1,1),test['event_name_2'].values.reshape(-1,1),\\\n",
        "             test['season'].values.reshape(-1,1),test[['roll_7_shift_28_mean',\n",
        "       'roll_14_shift_28_mean', 'roll_30_shift_28_mean',\n",
        "       'roll_60_shift_28_mean', 'roll_360_shift_28_mean',\n",
        "       'roll_7_shift_28_std', 'roll_14_shift_28_std', 'roll_30_shift_28_std',\n",
        "       'roll_60_shift_28_std', 'roll_360_shift_28_std','sell_price','direct_lag_28', 'direct_lag_35', 'direct_lag_42', 'direct_lag_49',\n",
        "       'direct_lag_56', 'direct_lag_63', 'direct_lag_70', 'direct_lag_77',\n",
        "       'direct_lag_84', 'direct_lag_91', 'direct_lag_98','direct_ewm']].values.reshape(-1,1,23)])"
      ],
      "metadata": {
        "colab": {
          "base_uri": "https://localhost:8080/"
        },
        "id": "KvVCXyGipdQa",
        "outputId": "13e26223-2faa-4805-c140-809c410ee3d7"
      },
      "id": "KvVCXyGipdQa",
      "execution_count": 21,
      "outputs": [
        {
          "output_type": "stream",
          "name": "stdout",
          "text": [
            "26679/26679 [==============================] - 140s 5ms/step\n"
          ]
        }
      ]
    },
    {
      "cell_type": "code",
      "source": [
        "#predicting sales for final_test data\n",
        "final_test['pred_sales']=model.predict([final_test['item_id'].values.reshape(-1,1),test['dept_id'].values,final_test['cat_id'].values.reshape(-1,1),final_test['store_id'].values.reshape(-1,1),\\\n",
        "             final_test['state_id'].values.reshape(-1,1),final_test['year'].values.reshape(-1,1),final_test['event_name_1'].values.reshape(-1,1),final_test['event_name_2'].values.reshape(-1,1),\\\n",
        "             final_test['season'].values.reshape(-1,1),final_test[['roll_7_shift_28_mean',\n",
        "       'roll_14_shift_28_mean', 'roll_30_shift_28_mean',\n",
        "       'roll_60_shift_28_mean', 'roll_360_shift_28_mean',\n",
        "       'roll_7_shift_28_std', 'roll_14_shift_28_std', 'roll_30_shift_28_std',\n",
        "       'roll_60_shift_28_std', 'roll_360_shift_28_std','sell_price','direct_lag_28', 'direct_lag_35', 'direct_lag_42', 'direct_lag_49',\n",
        "       'direct_lag_56', 'direct_lag_63', 'direct_lag_70', 'direct_lag_77',\n",
        "       'direct_lag_84', 'direct_lag_91', 'direct_lag_98','direct_ewm']].values.reshape(-1,1,23)])"
      ],
      "metadata": {
        "colab": {
          "base_uri": "https://localhost:8080/"
        },
        "id": "niIzKLWLpjTu",
        "outputId": "8154d68c-fa60-4b86-b487-9978381360d2"
      },
      "id": "niIzKLWLpjTu",
      "execution_count": 22,
      "outputs": [
        {
          "output_type": "stream",
          "name": "stdout",
          "text": [
            "26679/26679 [==============================] - 140s 5ms/step\n"
          ]
        }
      ]
    },
    {
      "cell_type": "code",
      "source": [
        "df=test.pivot_table(index='id',columns='date',values='pred_sales')\n",
        "df.reset_index(level=0,inplace=True)\n",
        "df['id']=df['id'].apply(lambda x:x.replace('evaluation','validation'))\n",
        "dic={}\n",
        "l=test['date'].unique()\n",
        "for i,day in enumerate(l):\n",
        "    dic[day]='F'+str(i+1)\n",
        "df.rename(columns=dic,inplace=True)"
      ],
      "metadata": {
        "id": "QwXNdnijpsDK"
      },
      "id": "QwXNdnijpsDK",
      "execution_count": 23,
      "outputs": []
    },
    {
      "cell_type": "code",
      "source": [
        "df1=final_test.pivot_table(index='id',columns='d',values='pred_sales')\n",
        "df1.reset_index(level=0,inplace=True)\n",
        "dic={}\n",
        "for i,day in enumerate(range(1942,1970)):\n",
        "    dic['d_'+str(day)]='F'+str(i+1)\n",
        "df1.rename(columns=dic,inplace=True)"
      ],
      "metadata": {
        "colab": {
          "base_uri": "https://localhost:8080/"
        },
        "id": "CdcQ5HJ-p4N8",
        "outputId": "947bb2f1-facc-4121-b143-59dfe0b336ed"
      },
      "id": "CdcQ5HJ-p4N8",
      "execution_count": 24,
      "outputs": [
        {
          "output_type": "stream",
          "name": "stdout",
          "text": [
            "CPU times: user 461 ms, sys: 0 ns, total: 461 ms\n",
            "Wall time: 460 ms\n"
          ]
        }
      ]
    },
    {
      "cell_type": "code",
      "source": [
        "df2=pd.concat([df1,df])"
      ],
      "metadata": {
        "id": "hLO2-acsp_u2"
      },
      "id": "hLO2-acsp_u2",
      "execution_count": 25,
      "outputs": []
    },
    {
      "cell_type": "code",
      "source": [
        "import pandas as pd\n",
        "import matplotlib.pyplot as plt\n",
        "\n",
        "# Assuming nn and test are already defined and preprocessed as per your original code snippet\n",
        "\n",
        "nn = df2\n",
        "test.sort_values(['id', 'date'], inplace=True)\n",
        "tt = test.pivot_table(index='id', values='sales', columns='d')\n",
        "tt.reset_index(level=0, inplace=True)\n",
        "tt['id'] = tt['id'].apply(lambda x: x.replace('evaluation', 'validation'))\n",
        "actual_sales = tt[tt['id'] == 'FOODS_3_090_CA_3_validation'].values.flatten()[1:]\n",
        "pred_sales = nn[nn['id'] == 'FOODS_3_090_CA_3_validation'].values.flatten()[1:]\n",
        "\n",
        "plt.figure(figsize=(10, 10))\n",
        "\n",
        "# Start plotting from the 3rd element (index 2), which corresponds to day 3\n",
        "days = range(3, len(actual_sales) + 3)\n",
        "\n",
        "plt.plot(days[2:], actual_sales[2:], label='Actual Values', marker='o')  # Adjusted to start from index 2\n",
        "plt.plot(days[2:], pred_sales[2:], label='Predicted Sales', marker='o')  # Adjusted to start from index 2\n",
        "\n",
        "plt.title(\"Actual Vs Predicted Sales of FOODS_3_090_CA_3_validation by LSTM NN\")\n",
        "plt.ylabel('Sales')\n",
        "plt.xlabel('Days')\n",
        "\n",
        "# Set the xlim to start from day 3\n",
        "plt.xlim(left=3)\n",
        "\n",
        "plt.legend()\n",
        "plt.show()"
      ],
      "metadata": {
        "colab": {
          "base_uri": "https://localhost:8080/",
          "height": 872
        },
        "id": "Odd72P1vJ5D6",
        "outputId": "3344dcc1-19fa-41c0-d3c6-ab5acf04a343"
      },
      "id": "Odd72P1vJ5D6",
      "execution_count": 31,
      "outputs": [
        {
          "output_type": "display_data",
          "data": {
            "text/plain": [
              "<Figure size 1000x1000 with 1 Axes>"
            ],
            "image/png": "[encoded data removed]"
          },
          "metadata": {}
        }
      ]
    },
    {
      "cell_type": "code",
      "source": [],
      "metadata": {
        "id": "ZjbCBRmK6dtI"
      },
      "id": "ZjbCBRmK6dtI",
      "execution_count": null,
      "outputs": []
    }
  ],
  "metadata": {
    "kernelspec": {
      "display_name": "Python 3",
      "name": "python3"
    },
    "language_info": {
      "codemirror_mode": {
        "name": "ipython",
        "version": 3
      },
      "file_extension": ".py",
      "mimetype": "text/x-python",
      "name": "python",
      "nbconvert_exporter": "python",
      "pygments_lexer": "ipython3",
      "version": "3.11.5"
    },
    "colab": {
      "provenance": [],
      "gpuType": "V100"
    },
    "accelerator": "GPU"
  },
  "nbformat": 4,
  "nbformat_minor": 5
}